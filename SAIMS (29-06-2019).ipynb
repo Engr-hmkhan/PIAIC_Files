{
 "cells": [
  {
   "cell_type": "markdown",
   "metadata": {},
   "source": [
    "# functions : local vs. global variables"
   ]
  },
  {
   "cell_type": "code",
   "execution_count": 1,
   "metadata": {},
   "outputs": [],
   "source": [
    "#lacal variable : defined inside function \n",
    "# Global variable : defined accessed outside functions"
   ]
  },
  {
   "cell_type": "code",
   "execution_count": 3,
   "metadata": {},
   "outputs": [],
   "source": [
    "def hello () :\n",
    "    a = 100\n",
    "    print (a)"
   ]
  },
  {
   "cell_type": "code",
   "execution_count": 6,
   "metadata": {},
   "outputs": [],
   "source": [
    "fruit=\"apple\"\n",
    "def hello():\n",
    "    a =1090\n",
    "    fruit=\"orange\"  # its a local function because there out side veriable becomes \n",
    "    \n",
    "    print(a)\n",
    "    print(fruit)"
   ]
  },
  {
   "cell_type": "code",
   "execution_count": 7,
   "metadata": {},
   "outputs": [
    {
     "name": "stdout",
     "output_type": "stream",
     "text": [
      "1090\n",
      "orange\n"
     ]
    }
   ],
   "source": [
    "hello()"
   ]
  },
  {
   "cell_type": "code",
   "execution_count": 8,
   "metadata": {},
   "outputs": [],
   "source": [
    "fruit=\"apple\"\n",
    "def hello():\n",
    "    global a,fruit\n",
    "    a =1090\n",
    "    fruit=\"orange\" \n",
    "    print(a)\n",
    "    print(fruit)"
   ]
  },
  {
   "cell_type": "code",
   "execution_count": 10,
   "metadata": {},
   "outputs": [
    {
     "name": "stdout",
     "output_type": "stream",
     "text": [
      "apple\n"
     ]
    }
   ],
   "source": [
    "print(fruit)"
   ]
  },
  {
   "cell_type": "markdown",
   "metadata": {},
   "source": [
    "# while loops"
   ]
  },
  {
   "cell_type": "code",
   "execution_count": 12,
   "metadata": {},
   "outputs": [
    {
     "name": "stdout",
     "output_type": "stream",
     "text": [
      "0\n",
      "1\n",
      "2\n",
      "3\n",
      "4\n"
     ]
    }
   ],
   "source": [
    "for a in range(5):\n",
    "    print (a)"
   ]
  },
  {
   "cell_type": "code",
   "execution_count": 20,
   "metadata": {},
   "outputs": [
    {
     "name": "stdout",
     "output_type": "stream",
     "text": [
      "0\n",
      "1\n",
      "2\n",
      "3\n",
      "4\n"
     ]
    }
   ],
   "source": [
    "a = 0\n",
    "while a<5:\n",
    "    print (a)\n",
    "    a +=1"
   ]
  },
  {
   "cell_type": "markdown",
   "metadata": {},
   "source": []
  },
  {
   "cell_type": "code",
   "execution_count": 22,
   "metadata": {},
   "outputs": [
    {
     "name": "stdout",
     "output_type": "stream",
     "text": [
      "nam bataoshamoon\n",
      "your name is shamoon \n",
      "nam bataoshamoo\n",
      "your name is shamoo \n",
      "nam bataoshamoon\n",
      "your name is shamoon \n",
      "nam bataoshamoon\n",
      "your name is shamoon \n"
     ]
    }
   ],
   "source": [
    "for a in range (4):\n",
    "    name = input(\"nam batao\")\n",
    "    print (f'your name is {name} ')"
   ]
  },
  {
   "cell_type": "code",
   "execution_count": 1,
   "metadata": {},
   "outputs": [
    {
     "name": "stdout",
     "output_type": "stream",
     "text": [
      "name batao ss\n",
      "name batao s\n",
      "name batao s\n",
      "name batao s\n",
      "name batao uit\n",
      "your name is uit\n"
     ]
    }
   ],
   "source": [
    "flag = True\n",
    "while flag :\n",
    "    name = input('name batao ')\n",
    "\n",
    "    \n",
    "    if name == \"uit\":\n",
    "        flag=False \n",
    "        \n",
    "print (f'your name is {name}')        \n"
   ]
  },
  {
   "cell_type": "code",
   "execution_count": null,
   "metadata": {},
   "outputs": [],
   "source": [
    "name = True \n",
    "while name :\n",
    "    name = input (\"tell me your name \")\n",
    "    \n",
    "    if name == \"cutee\":\n",
    "        name= False "
   ]
  },
  {
   "cell_type": "markdown",
   "metadata": {},
   "source": [
    "# object oriented programming "
   ]
  },
  {
   "cell_type": "code",
   "execution_count": 1,
   "metadata": {},
   "outputs": [],
   "source": [
    "#code reuse ability \n",
    "#object = surrounding (instance , derived from any class )"
   ]
  },
  {
   "cell_type": "markdown",
   "metadata": {},
   "source": [
    "# classses"
   ]
  },
  {
   "cell_type": "code",
   "execution_count": 2,
   "metadata": {},
   "outputs": [],
   "source": [
    "class paitent():\n",
    "    pass "
   ]
  },
  {
   "cell_type": "code",
   "execution_count": 6,
   "metadata": {},
   "outputs": [],
   "source": [
    "#jo object action perform krta hai wo behaviour objet h . info generalize honi chahiye,,, __dunder "
   ]
  },
  {
   "cell_type": "code",
   "execution_count": 17,
   "metadata": {},
   "outputs": [],
   "source": [
    "class patient ():\n",
    "    def __init__(self,name,age,gender,disease):\n",
    "        #attributes\n",
    "        self.name = name \n",
    "        self.age = age \n",
    "        self.gender = gender \n",
    "        self.disease = disease\n",
    "        #behaviours\n",
    "    def take_med():\n",
    "        print (f\"{self.name} is taking medicine \")\n",
    "    def take_rest():\n",
    "        print(f\"{self.name}is taking rest \")\n",
    "    def depositmoney():\n",
    "        print(f\"{self.name}is taking depositing fee \")"
   ]
  },
  {
   "cell_type": "code",
   "execution_count": 18,
   "metadata": {},
   "outputs": [],
   "source": [
    "p123 = patient(\"gabar\" , 50 , \"male \",\"flu\")"
   ]
  },
  {
   "cell_type": "code",
   "execution_count": 19,
   "metadata": {},
   "outputs": [
    {
     "data": {
      "text/plain": [
       "'gabar'"
      ]
     },
     "execution_count": 19,
     "metadata": {},
     "output_type": "execute_result"
    }
   ],
   "source": [
    "p123.name"
   ]
  },
  {
   "cell_type": "code",
   "execution_count": 20,
   "metadata": {},
   "outputs": [
    {
     "data": {
      "text/plain": [
       "<__main__.patient at 0x5dd1588>"
      ]
     },
     "execution_count": 20,
     "metadata": {},
     "output_type": "execute_result"
    }
   ],
   "source": [
    "p123"
   ]
  },
  {
   "cell_type": "code",
   "execution_count": 20,
   "metadata": {},
   "outputs": [],
   "source": [
    "class Students():\n",
    "    \n",
    "    def __init__(self,name,study,test):# self assign different names in different value\n",
    "        \n",
    "        self.name = name\n",
    "        self.study = study\n",
    "        self.test =test \n",
    "        \n",
    "        \n",
    "    def named(self):\n",
    "        print(f\"{self.name} is name\")\n",
    "        \n",
    "    def do_study(self):\n",
    "        print(f\"{self.name} is studing\")\n",
    "        \n",
    "    def giving_test(self):\n",
    "        print(f\"{self.name} is studing\")\n",
    "        \n",
    "        \n",
    "        \n",
    "        \n",
    "student = students(\"sam\",\"maths\",\"eng\")        \n",
    "        \n",
    " "
   ]
  },
  {
   "cell_type": "code",
   "execution_count": 21,
   "metadata": {},
   "outputs": [],
   "source": [
    "student = Students(\"sam\",\"maths\",\"eng\")"
   ]
  },
  {
   "cell_type": "code",
   "execution_count": 22,
   "metadata": {},
   "outputs": [
    {
     "name": "stdout",
     "output_type": "stream",
     "text": [
      "sam is name\n"
     ]
    }
   ],
   "source": [
    "student.named()"
   ]
  },
  {
   "cell_type": "code",
   "execution_count": 23,
   "metadata": {},
   "outputs": [
    {
     "data": {
      "text/plain": [
       "'sam'"
      ]
     },
     "execution_count": 23,
     "metadata": {},
     "output_type": "execute_result"
    }
   ],
   "source": [
    "student.name"
   ]
  },
  {
   "cell_type": "code",
   "execution_count": 26,
   "metadata": {},
   "outputs": [
    {
     "name": "stdout",
     "output_type": "stream",
     "text": [
      "sam is studing\n"
     ]
    }
   ],
   "source": [
    "student.giving_test()"
   ]
  },
  {
   "cell_type": "code",
   "execution_count": 27,
   "metadata": {},
   "outputs": [],
   "source": [
    "paa =Students(\"maz\",\"eng\",\"phy\")"
   ]
  },
  {
   "cell_type": "code",
   "execution_count": 28,
   "metadata": {},
   "outputs": [
    {
     "data": {
      "text/plain": [
       "'maz'"
      ]
     },
     "execution_count": 28,
     "metadata": {},
     "output_type": "execute_result"
    }
   ],
   "source": [
    "paa.name"
   ]
  },
  {
   "cell_type": "code",
   "execution_count": 30,
   "metadata": {},
   "outputs": [
    {
     "name": "stdout",
     "output_type": "stream",
     "text": [
      "maz is name\n"
     ]
    }
   ],
   "source": [
    "paa.named()"
   ]
  },
  {
   "cell_type": "code",
   "execution_count": 38,
   "metadata": {},
   "outputs": [],
   "source": [
    "class car():\n",
    "    def __init__(self ,make, modle, year):\n",
    "        self.make = make\n",
    "        self.modle = modle \n",
    "        self.year =year \n",
    "        self.odometer_reading = 0\n",
    "         \n",
    "    def get_descriptive_year(self):\n",
    "        \n",
    "        \n",
    "        long_name = str(self.year )+ \" \" + self.make+ \" \" +self.modle\n",
    "        return long_name.title()\n",
    "    \n",
    "    def read_meter(self):\n",
    "        print(f\"the car has travelled {self.odometer_reading} miles\")\n",
    "     \n",
    "    def update_odomter(self,milege):\n",
    "        self.odometer_reading = milege\n",
    "        \n",
    "    def increase_odometer (self,milege) :  \n",
    "        self.odometer_reading += milege"
   ]
  },
  {
   "cell_type": "code",
   "execution_count": 39,
   "metadata": {},
   "outputs": [],
   "source": [
    "my_car=car(\"suzuki\",\"fx\",1999)"
   ]
  },
  {
   "cell_type": "code",
   "execution_count": 40,
   "metadata": {},
   "outputs": [
    {
     "data": {
      "text/plain": [
       "'fx'"
      ]
     },
     "execution_count": 40,
     "metadata": {},
     "output_type": "execute_result"
    }
   ],
   "source": [
    "my_car.modle"
   ]
  },
  {
   "cell_type": "code",
   "execution_count": 28,
   "metadata": {},
   "outputs": [
    {
     "data": {
      "text/plain": [
       "'1999 Suzuki Fx'"
      ]
     },
     "execution_count": 28,
     "metadata": {},
     "output_type": "execute_result"
    }
   ],
   "source": [
    "my_car.get_descriptive_year()"
   ]
  },
  {
   "cell_type": "markdown",
   "metadata": {},
   "source": [
    "# setting a defult value attribut"
   ]
  },
  {
   "cell_type": "code",
   "execution_count": 29,
   "metadata": {},
   "outputs": [],
   "source": [
    "#1)direct access and modify \n",
    "#2)modify using a function "
   ]
  },
  {
   "cell_type": "code",
   "execution_count": 30,
   "metadata": {},
   "outputs": [],
   "source": [
    "abcCar=car(\"suzuki\",\"audi\",1900)"
   ]
  },
  {
   "cell_type": "code",
   "execution_count": 31,
   "metadata": {},
   "outputs": [
    {
     "data": {
      "text/plain": [
       "'audi'"
      ]
     },
     "execution_count": 31,
     "metadata": {},
     "output_type": "execute_result"
    }
   ],
   "source": [
    "abcCar.modle"
   ]
  },
  {
   "cell_type": "code",
   "execution_count": 32,
   "metadata": {},
   "outputs": [
    {
     "name": "stdout",
     "output_type": "stream",
     "text": [
      "the car has travelled 0 miles\n"
     ]
    }
   ],
   "source": [
    "abcCar.read_meter()"
   ]
  },
  {
   "cell_type": "code",
   "execution_count": 35,
   "metadata": {},
   "outputs": [],
   "source": [
    "abcCar.oldmeter_reading = 100"
   ]
  },
  {
   "cell_type": "code",
   "execution_count": 37,
   "metadata": {},
   "outputs": [
    {
     "ename": "AttributeError",
     "evalue": "'car' object has no attribute 'update_odometer'",
     "output_type": "error",
     "traceback": [
      "\u001b[1;31m---------------------------------------------------------------------------\u001b[0m",
      "\u001b[1;31mAttributeError\u001b[0m                            Traceback (most recent call last)",
      "\u001b[1;32m<ipython-input-37-10fdc0f1cda4>\u001b[0m in \u001b[0;36m<module>\u001b[1;34m()\u001b[0m\n\u001b[1;32m----> 1\u001b[1;33m \u001b[0mabcCar\u001b[0m\u001b[1;33m.\u001b[0m\u001b[0mupdate_odometer\u001b[0m\u001b[1;33m\u001b[0m\u001b[0m\n\u001b[0m",
      "\u001b[1;31mAttributeError\u001b[0m: 'car' object has no attribute 'update_odometer'"
     ]
    }
   ],
   "source": [
    "abcCar.update_odometer"
   ]
  },
  {
   "cell_type": "code",
   "execution_count": null,
   "metadata": {},
   "outputs": [],
   "source": []
  }
 ],
 "metadata": {
  "kernelspec": {
   "display_name": "Python 3",
   "language": "python",
   "name": "python3"
  },
  "language_info": {
   "codemirror_mode": {
    "name": "ipython",
    "version": 3
   },
   "file_extension": ".py",
   "mimetype": "text/x-python",
   "name": "python",
   "nbconvert_exporter": "python",
   "pygments_lexer": "ipython3",
   "version": "3.6.4"
  }
 },
 "nbformat": 4,
 "nbformat_minor": 2
}
